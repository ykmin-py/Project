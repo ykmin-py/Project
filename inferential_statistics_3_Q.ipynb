{
  "nbformat": 4,
  "nbformat_minor": 0,
  "metadata": {
    "kernelspec": {
      "display_name": "Python 3",
      "language": "python",
      "name": "python3"
    },
    "language_info": {
      "codemirror_mode": {
        "name": "ipython",
        "version": 3
      },
      "file_extension": ".py",
      "mimetype": "text/x-python",
      "name": "python",
      "nbconvert_exporter": "python",
      "pygments_lexer": "ipython3",
      "version": "3.7.3"
    },
    "colab": {
      "name": "inferential_statistics_3-Q.ipynb",
      "provenance": [],
      "toc_visible": true
    }
  },
  "cells": [
    {
      "cell_type": "markdown",
      "metadata": {
        "id": "tTKeAml6T_xv"
      },
      "source": [
        "# Inferential Statistics III - Bayesian"
      ]
    },
    {
      "cell_type": "markdown",
      "metadata": {
        "id": "x0nyQWI0T_xz"
      },
      "source": [
        "## Introduction"
      ]
    },
    {
      "cell_type": "markdown",
      "metadata": {
        "id": "KAUdocpKT_x3"
      },
      "source": [
        "In the last two subunits, you've encountered two schools for performing inference from samples. The Frequentist school calls upon a body of theory established over the past couple of centuries or so. Under certain assumptions and conditions, this allows us to calculate what we would expect to see if an experiment were to be repeated again and again and again. The expected value of the average of a sample is one such statistic we can calculate a result for, even if the originating distribution is far from normal. The bootstrap school, on the other hand, literally does (virtually) run that experiment again and again and again and empirically observes the multitude of outcomes. It then empirically calculates a statistic of interest. While this can be for exactly the same statistics that frequentism calculates (e.g. the mean of a sample) this empirical approach can also perform inference on statistics that do not have well known sampling distributions. Because of the requirement to repeat many, many redraws (with replacement) from the sample, this approach only became feasible with modern computing power.\n",
        "\n",
        "And thus we come to the Bayesian school of inference. Here we frame our probabilities not so much in terms of \"how many times would I expect this event to occur if the experiment were to be rerun many times\" but rather in terms of \"what is my belief in the likelihood of this event occurring?\" In a Bayesian probabilistic programming context, we can build models for systems and then let the data tell us how likely certain values for our model parameters are. This can be a very useful way to incorporate prior knowledge and deal with limited data. It can just be more than a _little_ fiddly to produce a good model!"
      ]
    },
    {
      "cell_type": "markdown",
      "metadata": {
        "id": "KdFQCwXKT_x7"
      },
      "source": [
        "## Medical charge data set"
      ]
    },
    {
      "cell_type": "markdown",
      "metadata": {
        "id": "v8tsnfzbT_x9"
      },
      "source": [
        "For the final mini-project of the stats unit, you'll once again return tot he medical charge data you've used for the other mini-projects. Previously, we considered whether we believed that the actual average(non-insured) charge had fallen below a certain threshold.\n",
        "\n",
        "The hospital is now reviewing its financial resiliency plan, which requires a model for revenue under a range of conditions that include the number of patients treated. Its current model is based on a confidence interval for the mean, and scaling that by different numbers of patients for each scenario. This approach has a number of limitations, most acutely the breakdown of the central limit theorem for low patient volumes; the current model does not do a good job of reflecting the variability in revenue you would see as the number of cases drops. A bootstrap approach would return samples of the same size as the original. Taking subsamples would restrict the sampling to the values already present in the original sample and would not do a good job of representing the actual variability you might see. What is needed is a better model of individual charges.\n",
        "\n",
        "So the problem here is that we want to model the distribution of individual charges and _we also really want to be able to capture our uncertainty about that distribution_ so we can better capture the range of values we might see. This naturally leads us to a powerful, probabilistic approach — we'll use the pymc3 library to perform Bayesian inference."
      ]
    },
    {
      "cell_type": "code",
      "metadata": {
        "id": "YS-CEPCIT_yD",
        "outputId": "fb9077d9-1de1-4c5e-befc-948cc72ed224",
        "colab": {
          "base_uri": "https://localhost:8080/",
          "height": 94
        }
      },
      "source": [
        "\n",
        "\n",
        "import pymc3 as pm\n",
        "import pandas as pd\n",
        "import numpy as np\n",
        "from numpy.random import seed\n",
        "import matplotlib.pyplot as plt\n",
        "from scipy.stats import gamma\n",
        "from google.colab import drive \n",
        "drive.mount('/content/gdrive')\n",
        "# there has been some incompatibilty between theano and numpy, if you encounter\n",
        "# an error with the latest packages from anaconda, then the included\n",
        "# package-list-txt should allow you to create a conda environment with compatible\n",
        "# packages."
      ],
      "execution_count": 1,
      "outputs": [
        {
          "output_type": "stream",
          "text": [
            "Drive already mounted at /content/gdrive; to attempt to forcibly remount, call drive.mount(\"/content/gdrive\", force_remount=True).\n"
          ],
          "name": "stdout"
        }
      ]
    },
    {
      "cell_type": "code",
      "metadata": {
        "id": "8mwflJCeT_yT"
      },
      "source": [
        "medical = pd.read_csv('/content/gdrive/My Drive/Colab Notebooks/insurance2.csv')"
      ],
      "execution_count": 2,
      "outputs": []
    },
    {
      "cell_type": "code",
      "metadata": {
        "id": "FaKPD5tST_yp",
        "outputId": "06066d39-9150-4431-fbec-b324be8f9e45",
        "colab": {
          "base_uri": "https://localhost:8080/",
          "height": 204
        }
      },
      "source": [
        "medical.head()"
      ],
      "execution_count": 3,
      "outputs": [
        {
          "output_type": "execute_result",
          "data": {
            "text/html": [
              "<div>\n",
              "<style scoped>\n",
              "    .dataframe tbody tr th:only-of-type {\n",
              "        vertical-align: middle;\n",
              "    }\n",
              "\n",
              "    .dataframe tbody tr th {\n",
              "        vertical-align: top;\n",
              "    }\n",
              "\n",
              "    .dataframe thead th {\n",
              "        text-align: right;\n",
              "    }\n",
              "</style>\n",
              "<table border=\"1\" class=\"dataframe\">\n",
              "  <thead>\n",
              "    <tr style=\"text-align: right;\">\n",
              "      <th></th>\n",
              "      <th>age</th>\n",
              "      <th>sex</th>\n",
              "      <th>bmi</th>\n",
              "      <th>children</th>\n",
              "      <th>smoker</th>\n",
              "      <th>region</th>\n",
              "      <th>charges</th>\n",
              "      <th>insuranceclaim</th>\n",
              "    </tr>\n",
              "  </thead>\n",
              "  <tbody>\n",
              "    <tr>\n",
              "      <th>0</th>\n",
              "      <td>19</td>\n",
              "      <td>0</td>\n",
              "      <td>27.900</td>\n",
              "      <td>0</td>\n",
              "      <td>1</td>\n",
              "      <td>3</td>\n",
              "      <td>16884.92400</td>\n",
              "      <td>1</td>\n",
              "    </tr>\n",
              "    <tr>\n",
              "      <th>1</th>\n",
              "      <td>18</td>\n",
              "      <td>1</td>\n",
              "      <td>33.770</td>\n",
              "      <td>1</td>\n",
              "      <td>0</td>\n",
              "      <td>2</td>\n",
              "      <td>1725.55230</td>\n",
              "      <td>1</td>\n",
              "    </tr>\n",
              "    <tr>\n",
              "      <th>2</th>\n",
              "      <td>28</td>\n",
              "      <td>1</td>\n",
              "      <td>33.000</td>\n",
              "      <td>3</td>\n",
              "      <td>0</td>\n",
              "      <td>2</td>\n",
              "      <td>4449.46200</td>\n",
              "      <td>0</td>\n",
              "    </tr>\n",
              "    <tr>\n",
              "      <th>3</th>\n",
              "      <td>33</td>\n",
              "      <td>1</td>\n",
              "      <td>22.705</td>\n",
              "      <td>0</td>\n",
              "      <td>0</td>\n",
              "      <td>1</td>\n",
              "      <td>21984.47061</td>\n",
              "      <td>0</td>\n",
              "    </tr>\n",
              "    <tr>\n",
              "      <th>4</th>\n",
              "      <td>32</td>\n",
              "      <td>1</td>\n",
              "      <td>28.880</td>\n",
              "      <td>0</td>\n",
              "      <td>0</td>\n",
              "      <td>1</td>\n",
              "      <td>3866.85520</td>\n",
              "      <td>1</td>\n",
              "    </tr>\n",
              "  </tbody>\n",
              "</table>\n",
              "</div>"
            ],
            "text/plain": [
              "   age  sex     bmi  children  smoker  region      charges  insuranceclaim\n",
              "0   19    0  27.900         0       1       3  16884.92400               1\n",
              "1   18    1  33.770         1       0       2   1725.55230               1\n",
              "2   28    1  33.000         3       0       2   4449.46200               0\n",
              "3   33    1  22.705         0       0       1  21984.47061               0\n",
              "4   32    1  28.880         0       0       1   3866.85520               1"
            ]
          },
          "metadata": {
            "tags": []
          },
          "execution_count": 3
        }
      ]
    },
    {
      "cell_type": "code",
      "metadata": {
        "id": "DJ6LNOOHT_y6"
      },
      "source": [
        "insurance = medical.charges[medical.insuranceclaim == 1]\n",
        "no_insurance = medical.charges[medical.insuranceclaim == 0]\n",
        "n_ins = len(insurance)\n",
        "n_no_ins = len(no_insurance)"
      ],
      "execution_count": 4,
      "outputs": []
    },
    {
      "cell_type": "code",
      "metadata": {
        "id": "U4IS4hmAT_zG",
        "outputId": "dfe1d6a1-958a-42b1-99a2-7595d62bd322",
        "colab": {
          "base_uri": "https://localhost:8080/",
          "height": 279
        }
      },
      "source": [
        "_ = plt.hist(insurance, bins=30, alpha=0.5, label='insurance claim')\n",
        "_ = plt.hist(no_insurance, bins=30, alpha=0.5, label='not insurance claim')\n",
        "_ = plt.xlabel('Charge amount')\n",
        "_ = plt.ylabel('Frequency')\n",
        "_ = plt.legend()"
      ],
      "execution_count": 5,
      "outputs": [
        {
          "output_type": "display_data",
          "data": {
            "image/png": "[encoded data removed]",
            "text/plain": [
              "<Figure size 432x288 with 1 Axes>"
            ]
          },
          "metadata": {
            "tags": [],
            "needs_background": "light"
          }
        }
      ]
    },
    {
      "cell_type": "markdown",
      "metadata": {
        "id": "omyk3LwJT_zP"
      },
      "source": [
        "We may suspect from the above that there is some sort of exponential-like distribution at play here. The charges that were not insurance claims seem most like this. The insurance claim charges may possibly be multimodal. The gamma distribution may be applicable and we could test this for the distribution of charges that weren't insurance claims first. Developing our new method for the easiest looking case first is a common and sound approach that can demonstrate a minimum viable solution/product and get, or keep, stakeholders on board."
      ]
    },
    {
      "cell_type": "markdown",
      "metadata": {
        "id": "aGPpM_mmT_zR"
      },
      "source": [
        "### Initial parameter estimation"
      ]
    },
    {
      "cell_type": "markdown",
      "metadata": {
        "id": "ZYdZHqdNT_zU"
      },
      "source": [
        "An initial guess for the gamma distribution's $\\alpha$ and $\\beta$ parameters can be made as described [here](https://wiki.analytica.com/index.php?title=Gamma_distribution)."
      ]
    },
    {
      "cell_type": "code",
      "metadata": {
        "id": "LoyrRutcT_zW",
        "outputId": "0ddac742-a477-42af-f891-2556b3f274d6",
        "colab": {
          "base_uri": "https://localhost:8080/",
          "height": 34
        }
      },
      "source": [
        "alpha_est = np.mean(no_insurance)**2 / np.var(no_insurance)\n",
        "beta_est = np.var(no_insurance) / np.mean(no_insurance)\n",
        "alpha_est, beta_est"
      ],
      "execution_count": 6,
      "outputs": [
        {
          "output_type": "execute_result",
          "data": {
            "text/plain": [
              "(1.8759059725250857, 4702.486170152821)"
            ]
          },
          "metadata": {
            "tags": []
          },
          "execution_count": 6
        }
      ]
    },
    {
      "cell_type": "markdown",
      "metadata": {
        "id": "ZgbYWXhRT_zh"
      },
      "source": [
        "### Initial simulation"
      ]
    },
    {
      "cell_type": "markdown",
      "metadata": {
        "id": "l20l8i4zT_zi"
      },
      "source": [
        "Let's draw the same number of random variates from this distribution and compare to our observed data."
      ]
    },
    {
      "cell_type": "code",
      "metadata": {
        "id": "juXNuUlcT_zk"
      },
      "source": [
        "seed(47)\n",
        "no_ins_model_rvs = gamma(alpha_est, scale=beta_est).rvs(n_no_ins)"
      ],
      "execution_count": 7,
      "outputs": []
    },
    {
      "cell_type": "code",
      "metadata": {
        "id": "lgKgC-c7T_zt",
        "outputId": "8795a9fe-f837-40ca-fa01-f75e6a0b3153",
        "colab": {
          "base_uri": "https://localhost:8080/",
          "height": 279
        }
      },
      "source": [
        "_ = plt.hist(no_ins_model_rvs, bins=30, alpha=0.5, label='simulated')\n",
        "_ = plt.hist(no_insurance, bins=30, alpha=0.5, label='observed')\n",
        "_ = plt.xlabel('Charge amount')\n",
        "_ = plt.ylabel('Frequency')\n",
        "_ = plt.legend()"
      ],
      "execution_count": 8,
      "outputs": [
        {
          "output_type": "display_data",
          "data": {
            "image/png": "[encoded data removed]",
            "text/plain": [
              "<Figure size 432x288 with 1 Axes>"
            ]
          },
          "metadata": {
            "tags": [],
            "needs_background": "light"
          }
        }
      ]
    },
    {
      "cell_type": "markdown",
      "metadata": {
        "id": "T035JKGIT_z4"
      },
      "source": [
        "Well it doesn't look too bad! We're not a million miles off. But can we do better? We have a plausible form for the distribution of charge amounts and potential values for that distribution's parameters so we can already draw random variates from that distribution to perform simulations. But we don't know if we have a _best_ estimate for the population parameters, and we also only have a single estimate each for $\\alpha$ and $\\beta$; we aren't capturing our uncertainty in their values. Can we take a Bayesian inference approach to estimate the parameters?"
      ]
    },
    {
      "cell_type": "markdown",
      "metadata": {
        "id": "S9XHtxGjT_z5"
      },
      "source": [
        "### Creating a PyMC3 model"
      ]
    },
    {
      "cell_type": "code",
      "metadata": {
        "id": "u_p4RbeiT_z6",
        "outputId": "3671c0dd-fa45-43a8-cc9d-033567dab583",
        "colab": {
          "base_uri": "https://localhost:8080/",
          "height": 34
        }
      },
      "source": [
        "# PyMC3 Gamma seems to use rate = 1/beta\n",
        "rate_est = 1/beta_est\n",
        "# Initial parameter estimates we'll use below\n",
        "alpha_est, rate_est"
      ],
      "execution_count": 9,
      "outputs": [
        {
          "output_type": "execute_result",
          "data": {
            "text/plain": [
              "(1.8759059725250857, 0.00021265346963636093)"
            ]
          },
          "metadata": {
            "tags": []
          },
          "execution_count": 9
        }
      ]
    },
    {
      "cell_type": "markdown",
      "metadata": {
        "id": "aP9VDb__T_0C"
      },
      "source": [
        "__Q:__ You are now going to create your own PyMC3 model!\n",
        "1. Use an [exponential](https://docs.pymc.io/api/distributions/continuous.html#pymc3.distributions.continuous.Exponential) prior for alpha. Call this stochastic variable `alpha_`.\n",
        "2. Similarly, use an exponential prior for the rate ([$1/\\beta$](https://wiki.analytica.com/index.php?title=Gamma_distribution)) parameter in PyMC3's [Gamma](https://docs.pymc.io/api/distributions/continuous.html#pymc3.distributions.continuous.Gamma). Call this stochastic variable `rate_` (but it will be supplied as `pm.Gamma`'s `beta` parameter). Hint: to set up a prior with an exponential distribution for $x$ where you have an initial estimate for $x$ of $x_0$, use a scale parameter of $1/x_0$.\n",
        "5. Create your Gamma distribution with your `alpha_` and `rate_` stochastic variables and the observed data.\n",
        "6. Perform 10000 draws."
      ]
    },
    {
      "cell_type": "markdown",
      "metadata": {
        "id": "VNcSMswNT_0E"
      },
      "source": [
        "Hint: you may find it helpful to work backwards. Start with your `pm.Gamma`, and note the required stochastic variables `alpha` and `beta`. Then, before that, you need to create those stochastic variables using `pm.Exponential` and the correct parameters."
      ]
    },
    {
      "cell_type": "markdown",
      "metadata": {
        "id": "s6tPATLMT_0F"
      },
      "source": [
        "__A:__"
      ]
    },
    {
      "cell_type": "code",
      "metadata": {
        "id": "q-u6yNBwT_0G",
        "outputId": "e3a73b18-9d94-4909-837b-060ee43732f7",
        "colab": {
          "base_uri": "https://localhost:8080/",
          "height": 119
        }
      },
      "source": [
        "with pm.Model() as model_no_ins:\n",
        "  alpha_ = pm.Exponential(\"alpha\", alpha_est)\n",
        "  rate_ = pm.Exponential(\"beta\", 1/rate_est)\n",
        "  no_ins = pm.Gamma(\"charge_no_insurance\", alpha=alpha_, beta=rate_, observed=no_insurance)\n",
        "  trace = pm.sample(10000)\n"
      ],
      "execution_count": 10,
      "outputs": [
        {
          "output_type": "stream",
          "text": [
            "Auto-assigning NUTS sampler...\n",
            "Initializing NUTS using jitter+adapt_diag...\n",
            "Sequential sampling (2 chains in 1 job)\n",
            "NUTS: [beta, alpha]\n",
            "Sampling chain 0, 0 divergences: 100%|██████████| 10500/10500 [00:10<00:00, 955.59it/s] \n",
            "Sampling chain 1, 0 divergences: 100%|██████████| 10500/10500 [00:10<00:00, 1005.04it/s]\n"
          ],
          "name": "stderr"
        }
      ]
    },
    {
      "cell_type": "code",
      "metadata": {
        "id": "i-mrfg74084X",
        "outputId": "ee49b197-be96-418e-cc01-e8feffa4cf10",
        "colab": {
          "base_uri": "https://localhost:8080/",
          "height": 38
        }
      },
      "source": [
        "alpha_\n"
      ],
      "execution_count": 11,
      "outputs": [
        {
          "output_type": "execute_result",
          "data": {
            "text/latex": "$\\text{alpha} \\sim \\text{Exponential}(\\mathit{lam}=1.8759059725250857)$",
            "text/plain": [
              "alpha"
            ]
          },
          "metadata": {
            "tags": []
          },
          "execution_count": 11
        }
      ]
    },
    {
      "cell_type": "markdown",
      "metadata": {
        "id": "RNCnng8hT_0P"
      },
      "source": [
        "If you get a warning about acceptance probability not matching the target, and that it's around 0.88 when it should be close to 0.8, don't worry. We encourage you to read up on this and see if you can adjust the parameters and/or arguments to pm.sample, but if your model runs without any additional warnings or errors then you should be doing great!"
      ]
    },
    {
      "cell_type": "markdown",
      "metadata": {
        "id": "EVD2sMKJT_0R"
      },
      "source": [
        "__Q:__ Explore your posteriors for $\\alpha$ and $\\beta$ (from the trace).\n",
        "* Calculate the 95% credible interval for $\\alpha$ and $\\beta$.\n",
        "* Plot your posterior values of $\\alpha$ and $\\beta$ (both line plots and histograms). \n",
        "* Mark your CIs on the histograms.\n",
        "* Do they look okay? What would bad plots look like?"
      ]
    },
    {
      "cell_type": "markdown",
      "metadata": {
        "id": "fDrBSZszT_0V"
      },
      "source": [
        "__A:__"
      ]
    },
    {
      "cell_type": "code",
      "metadata": {
        "id": "geQJqqanT_0X",
        "outputId": "15c223cb-1c62-418c-da07-f96fb9a58d16",
        "colab": {
          "base_uri": "https://localhost:8080/",
          "height": 51
        }
      },
      "source": [
        "    alpha_interval = np.percentile(trace.alpha,[2.5,97.5])\n",
        "    beta_interval = 1/np.percentile(trace.beta,[2.5,97.5])\n",
        "    print('The 95 percent Confidence Interval for Alpha is', alpha_interval)\n",
        "    print('The 95 percent Confidence Interval for Beta is', beta_interval)"
      ],
      "execution_count": 12,
      "outputs": [
        {
          "output_type": "stream",
          "text": [
            "The 95 percent Confidence Interval for Alpha is [1.97254288 2.45770239]\n",
            "The 95 percent Confidence Interval for Beta is [4533.16196706 3547.08291229]\n"
          ],
          "name": "stdout"
        }
      ]
    },
    {
      "cell_type": "code",
      "metadata": {
        "id": "00WzeDQ5T_0f",
        "outputId": "d014f459-95bd-4d5d-b6d8-2fbc38df7859",
        "colab": {
          "base_uri": "https://localhost:8080/",
          "height": 279
        }
      },
      "source": [
        "_ = plt.hist(trace.alpha, bins = 20)\n",
        "_ = plt.xlabel('Alpha')\n",
        "_ = plt.ylabel('count')\n",
        "_ = plt.axvline(alpha_interval[0], color='r', linestyle='--')\n",
        "_ = plt.axvline(alpha_interval[1], color='r', linestyle='--')\n"
      ],
      "execution_count": 13,
      "outputs": [
        {
          "output_type": "display_data",
          "data": {
            "image/png": "[encoded data removed]",
            "text/plain": [
              "<Figure size 432x288 with 1 Axes>"
            ]
          },
          "metadata": {
            "tags": [],
            "needs_background": "light"
          }
        }
      ]
    },
    {
      "cell_type": "code",
      "metadata": {
        "id": "KBCWLzgAT_0k",
        "outputId": "145cd5f8-80c4-49cc-edd0-b6539472227c",
        "colab": {
          "base_uri": "https://localhost:8080/",
          "height": 279
        }
      },
      "source": [
        "_ = plt.hist(1/trace.beta, bins = 20)\n",
        "_ = plt.xlabel('beta')\n",
        "_ = plt.ylabel('count')\n",
        "_ = plt.axvline(beta_interval[0], color='r', linestyle='--')\n",
        "_ = plt.axvline(beta_interval[1], color='r', linestyle='--')"
      ],
      "execution_count": 14,
      "outputs": [
        {
          "output_type": "display_data",
          "data": {
            "image/png": "[encoded data removed]",
            "text/plain": [
              "<Figure size 432x288 with 1 Axes>"
            ]
          },
          "metadata": {
            "tags": [],
            "needs_background": "light"
          }
        }
      ]
    },
    {
      "cell_type": "markdown",
      "metadata": {
        "id": "XG38rpKq5wuc"
      },
      "source": [
        "The plots are looking OK as they appear normally distributed"
      ]
    },
    {
      "cell_type": "markdown",
      "metadata": {
        "id": "chog4094T_0u"
      },
      "source": [
        ""
      ]
    },
    {
      "cell_type": "markdown",
      "metadata": {
        "id": "xjUR5vrET_0w"
      },
      "source": [
        "__Q:__ Play around with some of the built-in diagnostic plots for your model. We suggest at least checking out the traceplot for alpha and beta. How do they look?"
      ]
    },
    {
      "cell_type": "markdown",
      "metadata": {
        "id": "0W8ZnOI4T_0x"
      },
      "source": [
        "__A:__"
      ]
    },
    {
      "cell_type": "code",
      "metadata": {
        "id": "8OoK5LwKT_0y",
        "outputId": "412d2d34-4b73-4287-c938-325f5e7c5d20",
        "colab": {
          "base_uri": "https://localhost:8080/",
          "height": 279
        }
      },
      "source": [
        "_= plt.plot(trace.alpha)\n",
        "_ = plt.xlabel('Alpha')\n",
        "_ = plt.ylabel('count')"
      ],
      "execution_count": 15,
      "outputs": [
        {
          "output_type": "display_data",
          "data": {
            "image/png": "[encoded data removed]",
            "text/plain": [
              "<Figure size 432x288 with 1 Axes>"
            ]
          },
          "metadata": {
            "tags": [],
            "needs_background": "light"
          }
        }
      ]
    },
    {
      "cell_type": "code",
      "metadata": {
        "id": "m4b4BDD1HAX_",
        "outputId": "802bd4b5-5a36-46a7-8719-5caf5f92035f",
        "colab": {
          "base_uri": "https://localhost:8080/",
          "height": 1000
        }
      },
      "source": [
        "#conda install -c conda-forge arviz\n",
        "!pip install arviz\n",
        "!pip install pymc3==3.8\n",
        "import pymc3 as pm1\n",
        "#!pip install git+git://github.com/arviz-devs/arviz.git\n",
        "#import arviz\n",
        "pm1.traceplot(trace)"
      ],
      "execution_count": 16,
      "outputs": [
        {
          "output_type": "stream",
          "text": [
            "Requirement already satisfied: arviz in /usr/local/lib/python3.6/dist-packages (0.6.1)\n",
            "Requirement already satisfied: matplotlib>=3.0 in /usr/local/lib/python3.6/dist-packages (from arviz) (3.2.2)\n",
            "Requirement already satisfied: pandas>=0.23 in /usr/local/lib/python3.6/dist-packages (from arviz) (1.1.3)\n",
            "Requirement already satisfied: scipy>=0.19 in /usr/local/lib/python3.6/dist-packages (from arviz) (1.4.1)\n",
            "Requirement already satisfied: numpy>=1.12 in /usr/local/lib/python3.6/dist-packages (from arviz) (1.18.5)\n",
            "Requirement already satisfied: packaging in /usr/local/lib/python3.6/dist-packages (from arviz) (20.4)\n",
            "Requirement already satisfied: netcdf4 in /usr/local/lib/python3.6/dist-packages (from arviz) (1.5.4)\n",
            "Requirement already satisfied: xarray>=0.11 in /usr/local/lib/python3.6/dist-packages (from arviz) (0.16.1)\n",
            "Requirement already satisfied: kiwisolver>=1.0.1 in /usr/local/lib/python3.6/dist-packages (from matplotlib>=3.0->arviz) (1.2.0)\n",
            "Requirement already satisfied: python-dateutil>=2.1 in /usr/local/lib/python3.6/dist-packages (from matplotlib>=3.0->arviz) (2.8.1)\n",
            "Requirement already satisfied: cycler>=0.10 in /usr/local/lib/python3.6/dist-packages (from matplotlib>=3.0->arviz) (0.10.0)\n",
            "Requirement already satisfied: pyparsing!=2.0.4,!=2.1.2,!=2.1.6,>=2.0.1 in /usr/local/lib/python3.6/dist-packages (from matplotlib>=3.0->arviz) (2.4.7)\n",
            "Requirement already satisfied: pytz>=2017.2 in /usr/local/lib/python3.6/dist-packages (from pandas>=0.23->arviz) (2018.9)\n",
            "Requirement already satisfied: six in /usr/local/lib/python3.6/dist-packages (from packaging->arviz) (1.15.0)\n",
            "Requirement already satisfied: cftime in /usr/local/lib/python3.6/dist-packages (from netcdf4->arviz) (1.2.1)\n",
            "Requirement already satisfied: setuptools>=38.4 in /usr/local/lib/python3.6/dist-packages (from xarray>=0.11->arviz) (50.3.0)\n",
            "Requirement already satisfied: pymc3==3.8 in /usr/local/lib/python3.6/dist-packages (3.8)\n",
            "Requirement already satisfied: h5py>=2.7.0 in /usr/local/lib/python3.6/dist-packages (from pymc3==3.8) (2.10.0)\n",
            "Requirement already satisfied: arviz>=0.4.1 in /usr/local/lib/python3.6/dist-packages (from pymc3==3.8) (0.6.1)\n",
            "Requirement already satisfied: scipy>=0.18.1 in /usr/local/lib/python3.6/dist-packages (from pymc3==3.8) (1.4.1)\n",
            "Requirement already satisfied: theano>=1.0.4 in /usr/local/lib/python3.6/dist-packages (from pymc3==3.8) (1.0.5)\n",
            "Requirement already satisfied: numpy>=1.13.0 in /usr/local/lib/python3.6/dist-packages (from pymc3==3.8) (1.18.5)\n",
            "Requirement already satisfied: pandas>=0.18.0 in /usr/local/lib/python3.6/dist-packages (from pymc3==3.8) (1.1.3)\n",
            "Requirement already satisfied: patsy>=0.4.0 in /usr/local/lib/python3.6/dist-packages (from pymc3==3.8) (0.5.1)\n",
            "Requirement already satisfied: tqdm>=4.8.4 in /usr/local/lib/python3.6/dist-packages (from pymc3==3.8) (4.41.1)\n",
            "Requirement already satisfied: six in /usr/local/lib/python3.6/dist-packages (from h5py>=2.7.0->pymc3==3.8) (1.15.0)\n",
            "Requirement already satisfied: netcdf4 in /usr/local/lib/python3.6/dist-packages (from arviz>=0.4.1->pymc3==3.8) (1.5.4)\n",
            "Requirement already satisfied: xarray>=0.11 in /usr/local/lib/python3.6/dist-packages (from arviz>=0.4.1->pymc3==3.8) (0.16.1)\n",
            "Requirement already satisfied: packaging in /usr/local/lib/python3.6/dist-packages (from arviz>=0.4.1->pymc3==3.8) (20.4)\n",
            "Requirement already satisfied: matplotlib>=3.0 in /usr/local/lib/python3.6/dist-packages (from arviz>=0.4.1->pymc3==3.8) (3.2.2)\n",
            "Requirement already satisfied: python-dateutil>=2.7.3 in /usr/local/lib/python3.6/dist-packages (from pandas>=0.18.0->pymc3==3.8) (2.8.1)\n",
            "Requirement already satisfied: pytz>=2017.2 in /usr/local/lib/python3.6/dist-packages (from pandas>=0.18.0->pymc3==3.8) (2018.9)\n",
            "Requirement already satisfied: cftime in /usr/local/lib/python3.6/dist-packages (from netcdf4->arviz>=0.4.1->pymc3==3.8) (1.2.1)\n",
            "Requirement already satisfied: setuptools>=38.4 in /usr/local/lib/python3.6/dist-packages (from xarray>=0.11->arviz>=0.4.1->pymc3==3.8) (50.3.0)\n",
            "Requirement already satisfied: pyparsing>=2.0.2 in /usr/local/lib/python3.6/dist-packages (from packaging->arviz>=0.4.1->pymc3==3.8) (2.4.7)\n",
            "Requirement already satisfied: kiwisolver>=1.0.1 in /usr/local/lib/python3.6/dist-packages (from matplotlib>=3.0->arviz>=0.4.1->pymc3==3.8) (1.2.0)\n",
            "Requirement already satisfied: cycler>=0.10 in /usr/local/lib/python3.6/dist-packages (from matplotlib>=3.0->arviz>=0.4.1->pymc3==3.8) (0.10.0)\n"
          ],
          "name": "stdout"
        },
        {
          "output_type": "stream",
          "text": [
            "/usr/local/lib/python3.6/dist-packages/arviz/plots/backends/matplotlib/distplot.py:38: UserWarning: Argument backend_kwargs has not effect in matplotlib.plot_distSupplied value won't be used\n",
            "  \"Argument backend_kwargs has not effect in matplotlib.plot_dist\"\n",
            "/usr/local/lib/python3.6/dist-packages/arviz/plots/backends/matplotlib/distplot.py:38: UserWarning: Argument backend_kwargs has not effect in matplotlib.plot_distSupplied value won't be used\n",
            "  \"Argument backend_kwargs has not effect in matplotlib.plot_dist\"\n",
            "/usr/local/lib/python3.6/dist-packages/arviz/plots/backends/matplotlib/distplot.py:38: UserWarning: Argument backend_kwargs has not effect in matplotlib.plot_distSupplied value won't be used\n",
            "  \"Argument backend_kwargs has not effect in matplotlib.plot_dist\"\n",
            "/usr/local/lib/python3.6/dist-packages/arviz/plots/backends/matplotlib/distplot.py:38: UserWarning: Argument backend_kwargs has not effect in matplotlib.plot_distSupplied value won't be used\n",
            "  \"Argument backend_kwargs has not effect in matplotlib.plot_dist\"\n"
          ],
          "name": "stderr"
        },
        {
          "output_type": "execute_result",
          "data": {
            "text/plain": [
              "array([[<matplotlib.axes._subplots.AxesSubplot object at 0x7f978586fb00>,\n",
              "        <matplotlib.axes._subplots.AxesSubplot object at 0x7f9785824b38>],\n",
              "       [<matplotlib.axes._subplots.AxesSubplot object at 0x7f97859b8b38>,\n",
              "        <matplotlib.axes._subplots.AxesSubplot object at 0x7f9785859630>]],\n",
              "      dtype=object)"
            ]
          },
          "metadata": {
            "tags": []
          },
          "execution_count": 16
        },
        {
          "output_type": "display_data",
          "data": {
            "image/png": "[encoded data removed]",
            "text/plain": [
              "<Figure size 864x288 with 4 Axes>"
            ]
          },
          "metadata": {
            "tags": [],
            "needs_background": "light"
          }
        }
      ]
    },
    {
      "cell_type": "markdown",
      "metadata": {
        "id": "m8lO8JulT_03"
      },
      "source": [
        ""
      ]
    },
    {
      "cell_type": "markdown",
      "metadata": {
        "id": "biCIH6oGT_09"
      },
      "source": [
        "__Q:__ Take your best shot at a new simulated sequence of medical charges using scipy.stat's gamma distribution. Don't forget the difference between functions that take $\\beta$ and functions that use $1/\\beta$ for the scale parameter. Simulate a data set the same size as the number of observations in the data and overlay the two histograms (simulated and observed)."
      ]
    },
    {
      "cell_type": "markdown",
      "metadata": {
        "id": "6aM896wYT_0-"
      },
      "source": [
        "__A:__"
      ]
    },
    {
      "cell_type": "code",
      "metadata": {
        "scrolled": true,
        "id": "qwaZqHp4T_1G"
      },
      "source": [
        "seed(47)\n",
        "best_shot_simulated = None\n",
        "best_shot_simulated = gamma(trace.alpha.mean(), scale=trace.beta.mean()).rvs(n_no_ins)"
      ],
      "execution_count": 25,
      "outputs": []
    },
    {
      "cell_type": "code",
      "metadata": {
        "id": "jwz26c71NcKj",
        "outputId": "de533327-2d22-4d67-f004-6bb7721e95c5",
        "colab": {
          "base_uri": "https://localhost:8080/",
          "height": 279
        }
      },
      "source": [
        "    _ = plt.hist(best_shot_simulated, bins=30, alpha=0.5, label='simulated')\n",
        "    _ = plt.hist(no_insurance, bins=30, alpha=0.5, label='observed')\n",
        "    _ = plt.xlabel('Charge amount')\n",
        "    _ = plt.ylabel('Frequency')\n",
        "    _ = plt.legend()"
      ],
      "execution_count": 27,
      "outputs": [
        {
          "output_type": "display_data",
          "data": {
            "image/png": "[encoded data removed]",
            "text/plain": [
              "<Figure size 432x288 with 1 Axes>"
            ]
          },
          "metadata": {
            "tags": [],
            "needs_background": "light"
          }
        }
      ]
    },
    {
      "cell_type": "markdown",
      "metadata": {
        "id": "NNAmaq3iT_1K"
      },
      "source": [
        "## Summary"
      ]
    },
    {
      "cell_type": "markdown",
      "metadata": {
        "id": "TK3EZK5IT_1M"
      },
      "source": [
        "In this exercise, we have postulated a distribution to describe the individual charge amounts for non-insured cases. This distribution has two required parameters, which we do not know, but we used PyMC3 to perform Bayesian inference to find our level of \"belief\" in a range of values for them. We then used the average parameter values to create one simulated data set of the same size as the original, but the distribution of our posteriors for these parameters will allow us to perform simulations of any sample size we desire and for a range of scenarios of different $\\alpha$ and $\\beta$. This could be a powerful tool to model different financial conditions for the hospital. \n",
        "\n",
        "Well done making it through this tricky subject. Starting think Bayesian _and_ starting to get to grips with something like PyMC3 is no easy task. As a data scientist, the most important thing is to be aware that this statistical approach exists, though you may not actually use this approach as much as you use the other approaches you've learned about. Still, we encourage you to think of ways that this approach could apply to the work that you do in this course and throughout your career.  "
      ]
    }
  ]
}